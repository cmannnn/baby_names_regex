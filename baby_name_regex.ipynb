{
  "nbformat": 4,
  "nbformat_minor": 0,
  "metadata": {
    "colab": {
      "name": "baby_name_regex.ipynb",
      "provenance": [],
      "authorship_tag": "ABX9TyO/lwP/uWvReKFM2nOCnCed",
      "include_colab_link": true
    },
    "kernelspec": {
      "name": "python3",
      "display_name": "Python 3"
    },
    "language_info": {
      "name": "python"
    }
  },
  "cells": [
    {
      "cell_type": "markdown",
      "metadata": {
        "id": "view-in-github",
        "colab_type": "text"
      },
      "source": [
        "<a href=\"https://colab.research.google.com/github/cmannnn/baby_names_regex/blob/main/baby_name_regex.ipynb\" target=\"_parent\"><img src=\"https://colab.research.google.com/assets/colab-badge.svg\" alt=\"Open In Colab\"/></a>"
      ]
    },
    {
      "cell_type": "markdown",
      "metadata": {
        "id": "rRPSckwBs77I"
      },
      "source": [
        "# Google Education Baby Name Regex Exercise"
      ]
    },
    {
      "cell_type": "code",
      "metadata": {
        "id": "3a5m2fWFwOnQ"
      },
      "source": [
        "# imports\n",
        "import pandas as pd\n",
        "import re"
      ],
      "execution_count": 1,
      "outputs": []
    },
    {
      "cell_type": "markdown",
      "metadata": {
        "id": "SiPsF-MXsWHb"
      },
      "source": [
        "- Extract all the text from the file and print it\n"
      ]
    },
    {
      "cell_type": "code",
      "metadata": {
        "colab": {
          "base_uri": "https://localhost:8080/"
        },
        "id": "F137jgDfta_N",
        "outputId": "aa7ad238-cc31-4d4c-f65c-f8aca8b63a75"
      },
      "source": [
        "# downloading the exercise files from google\n",
        "!wget https://developers.google.com/edu/python/google-python-exercises.zip"
      ],
      "execution_count": 2,
      "outputs": [
        {
          "output_type": "stream",
          "text": [
            "--2021-08-29 23:39:17--  https://developers.google.com/edu/python/google-python-exercises.zip\n",
            "Resolving developers.google.com (developers.google.com)... 142.251.2.138, 142.251.2.102, 142.251.2.100, ...\n",
            "Connecting to developers.google.com (developers.google.com)|142.251.2.138|:443... connected.\n",
            "HTTP request sent, awaiting response... 200 OK\n",
            "Length: 302656 (296K) [application/zip]\n",
            "Saving to: ‘google-python-exercises.zip’\n",
            "\n",
            "google-python-exerc 100%[===================>] 295.56K  1.38MB/s    in 0.2s    \n",
            "\n",
            "2021-08-29 23:39:17 (1.38 MB/s) - ‘google-python-exercises.zip’ saved [302656/302656]\n",
            "\n"
          ],
          "name": "stdout"
        }
      ]
    },
    {
      "cell_type": "code",
      "metadata": {
        "id": "JXwLu-DbugAU"
      },
      "source": [
        "# unzipping all of the exercies files\n",
        "!unzip google-python-exercises.zip"
      ],
      "execution_count": null,
      "outputs": []
    },
    {
      "cell_type": "code",
      "metadata": {
        "id": "BGMmLVTocVwS"
      },
      "source": [
        "fname = r'google-python-exercises/babynames/baby1990.html'"
      ],
      "execution_count": 240,
      "outputs": []
    },
    {
      "cell_type": "code",
      "metadata": {
        "id": "WCChLWWuzH-D"
      },
      "source": [
        "# opening year 1990 in read mode\n",
        "ds = open(fname, 'r')"
      ],
      "execution_count": 242,
      "outputs": []
    },
    {
      "cell_type": "code",
      "metadata": {
        "id": "FA1aDskjwcDw"
      },
      "source": [
        "# printing all of 1990's text (very messy)\n",
        "print(ds.read())"
      ],
      "execution_count": null,
      "outputs": []
    },
    {
      "cell_type": "code",
      "metadata": {
        "id": "LeyWGxZMgucw",
        "outputId": "e19332ae-fa5b-4e0c-82c3-e5ecc43288ae",
        "colab": {
          "base_uri": "https://localhost:8080/"
        }
      },
      "source": [
        "ds"
      ],
      "execution_count": 244,
      "outputs": [
        {
          "output_type": "execute_result",
          "data": {
            "text/plain": [
              "<_io.TextIOWrapper name='google-python-exercises/babynames/baby1990.html' mode='r' encoding='UTF-8'>"
            ]
          },
          "metadata": {},
          "execution_count": 244
        }
      ]
    },
    {
      "cell_type": "code",
      "metadata": {
        "id": "FHM-h0a2gRuu"
      },
      "source": [
        "ds = ds.read()"
      ],
      "execution_count": 235,
      "outputs": []
    },
    {
      "cell_type": "markdown",
      "metadata": {
        "id": "NpWihYt7tSsp"
      },
      "source": [
        "- Find and extract the year and print it\n"
      ]
    },
    {
      "cell_type": "markdown",
      "metadata": {
        "id": "fSmAFSCl1X-q"
      },
      "source": [
        "\\<h3 align=\"center\">Popularity in 1990</h3>"
      ]
    },
    {
      "cell_type": "markdown",
      "metadata": {
        "id": "5AbUzhpk5ANi"
      },
      "source": [
        "r'Popularity\\sin\\s(\\d\\d\\d\\d)'"
      ]
    },
    {
      "cell_type": "code",
      "metadata": {
        "id": "o8w7Phf9yKlu",
        "colab": {
          "base_uri": "https://localhost:8080/",
          "height": 296
        },
        "outputId": "e6272116-4aa3-460b-c978-f4151caf43c1"
      },
      "source": [
        "year = re.search(r'.*is.*', ds)"
      ],
      "execution_count": 243,
      "outputs": [
        {
          "output_type": "error",
          "ename": "TypeError",
          "evalue": "ignored",
          "traceback": [
            "\u001b[0;31m---------------------------------------------------------------------------\u001b[0m",
            "\u001b[0;31mTypeError\u001b[0m                                 Traceback (most recent call last)",
            "\u001b[0;32m<ipython-input-243-215404e1e588>\u001b[0m in \u001b[0;36m<module>\u001b[0;34m()\u001b[0m\n\u001b[0;32m----> 1\u001b[0;31m \u001b[0myear\u001b[0m \u001b[0;34m=\u001b[0m \u001b[0mre\u001b[0m\u001b[0;34m.\u001b[0m\u001b[0msearch\u001b[0m\u001b[0;34m(\u001b[0m\u001b[0;34mr'.*is.*'\u001b[0m\u001b[0;34m,\u001b[0m \u001b[0mds\u001b[0m\u001b[0;34m)\u001b[0m\u001b[0;34m\u001b[0m\u001b[0;34m\u001b[0m\u001b[0m\n\u001b[0m",
            "\u001b[0;32m/usr/lib/python3.7/re.py\u001b[0m in \u001b[0;36msearch\u001b[0;34m(pattern, string, flags)\u001b[0m\n\u001b[1;32m    183\u001b[0m     \"\"\"Scan through string looking for a match to the pattern, returning\n\u001b[1;32m    184\u001b[0m     a Match object, or None if no match was found.\"\"\"\n\u001b[0;32m--> 185\u001b[0;31m     \u001b[0;32mreturn\u001b[0m \u001b[0m_compile\u001b[0m\u001b[0;34m(\u001b[0m\u001b[0mpattern\u001b[0m\u001b[0;34m,\u001b[0m \u001b[0mflags\u001b[0m\u001b[0;34m)\u001b[0m\u001b[0;34m.\u001b[0m\u001b[0msearch\u001b[0m\u001b[0;34m(\u001b[0m\u001b[0mstring\u001b[0m\u001b[0;34m)\u001b[0m\u001b[0;34m\u001b[0m\u001b[0;34m\u001b[0m\u001b[0m\n\u001b[0m\u001b[1;32m    186\u001b[0m \u001b[0;34m\u001b[0m\u001b[0m\n\u001b[1;32m    187\u001b[0m \u001b[0;32mdef\u001b[0m \u001b[0msub\u001b[0m\u001b[0;34m(\u001b[0m\u001b[0mpattern\u001b[0m\u001b[0;34m,\u001b[0m \u001b[0mrepl\u001b[0m\u001b[0;34m,\u001b[0m \u001b[0mstring\u001b[0m\u001b[0;34m,\u001b[0m \u001b[0mcount\u001b[0m\u001b[0;34m=\u001b[0m\u001b[0;36m0\u001b[0m\u001b[0;34m,\u001b[0m \u001b[0mflags\u001b[0m\u001b[0;34m=\u001b[0m\u001b[0;36m0\u001b[0m\u001b[0;34m)\u001b[0m\u001b[0;34m:\u001b[0m\u001b[0;34m\u001b[0m\u001b[0;34m\u001b[0m\u001b[0m\n",
            "\u001b[0;31mTypeError\u001b[0m: expected string or bytes-like object"
          ]
        }
      ]
    },
    {
      "cell_type": "code",
      "metadata": {
        "colab": {
          "base_uri": "https://localhost:8080/",
          "height": 170
        },
        "id": "z289mHnb2zkK",
        "outputId": "2842e428-6687-40ad-9ead-454efb5908aa"
      },
      "source": [
        "print(year.group())"
      ],
      "execution_count": 239,
      "outputs": [
        {
          "output_type": "error",
          "ename": "AttributeError",
          "evalue": "ignored",
          "traceback": [
            "\u001b[0;31m---------------------------------------------------------------------------\u001b[0m",
            "\u001b[0;31mAttributeError\u001b[0m                            Traceback (most recent call last)",
            "\u001b[0;32m<ipython-input-239-6bc1ddc7f9c0>\u001b[0m in \u001b[0;36m<module>\u001b[0;34m()\u001b[0m\n\u001b[0;32m----> 1\u001b[0;31m \u001b[0mprint\u001b[0m\u001b[0;34m(\u001b[0m\u001b[0myear\u001b[0m\u001b[0;34m.\u001b[0m\u001b[0mgroup\u001b[0m\u001b[0;34m(\u001b[0m\u001b[0;34m)\u001b[0m\u001b[0;34m)\u001b[0m\u001b[0;34m\u001b[0m\u001b[0;34m\u001b[0m\u001b[0m\n\u001b[0m",
            "\u001b[0;31mAttributeError\u001b[0m: 'NoneType' object has no attribute 'group'"
          ]
        }
      ]
    },
    {
      "cell_type": "code",
      "metadata": {
        "id": "sjVlZv95V968"
      },
      "source": [
        "popularity = re.search(r'Popularity\\sin\\s(\\d\\d\\d\\d)', fname)"
      ],
      "execution_count": 194,
      "outputs": []
    },
    {
      "cell_type": "code",
      "metadata": {
        "colab": {
          "base_uri": "https://localhost:8080/",
          "height": 170
        },
        "id": "Ku9vxcaAWHdv",
        "outputId": "d7b81ddf-9f31-4fc8-b9b9-a540e916babe"
      },
      "source": [
        "print(popularity.group())"
      ],
      "execution_count": 195,
      "outputs": [
        {
          "output_type": "error",
          "ename": "AttributeError",
          "evalue": "ignored",
          "traceback": [
            "\u001b[0;31m---------------------------------------------------------------------------\u001b[0m",
            "\u001b[0;31mAttributeError\u001b[0m                            Traceback (most recent call last)",
            "\u001b[0;32m<ipython-input-195-353a55b44e82>\u001b[0m in \u001b[0;36m<module>\u001b[0;34m()\u001b[0m\n\u001b[0;32m----> 1\u001b[0;31m \u001b[0mprint\u001b[0m\u001b[0;34m(\u001b[0m\u001b[0mpopularity\u001b[0m\u001b[0;34m.\u001b[0m\u001b[0mgroup\u001b[0m\u001b[0;34m(\u001b[0m\u001b[0;34m)\u001b[0m\u001b[0;34m)\u001b[0m\u001b[0;34m\u001b[0m\u001b[0;34m\u001b[0m\u001b[0m\n\u001b[0m",
            "\u001b[0;31mAttributeError\u001b[0m: 'NoneType' object has no attribute 'group'"
          ]
        }
      ]
    },
    {
      "cell_type": "code",
      "metadata": {
        "id": "0bk_q4N2SOP0"
      },
      "source": [
        "# \\sin\\s(\\d\\d\\d\\d)"
      ],
      "execution_count": null,
      "outputs": []
    },
    {
      "cell_type": "markdown",
      "metadata": {
        "id": "j_qHWQ5ptUZ2"
      },
      "source": [
        "- Extract the names and rank numbers and print them\n"
      ]
    },
    {
      "cell_type": "markdown",
      "metadata": {
        "id": "JNNt99qQtUgx"
      },
      "source": [
        "- Get the names data into a dict and print it\n"
      ]
    },
    {
      "cell_type": "markdown",
      "metadata": {
        "id": "S2VwE0IutUl1"
      },
      "source": [
        "- Build the [year, 'name rank', ... ] list and print it\n"
      ]
    },
    {
      "cell_type": "markdown",
      "metadata": {
        "id": "JEtQMgMatYp3"
      },
      "source": [
        "- Fix main() to use the ExtractNames list"
      ]
    },
    {
      "cell_type": "code",
      "metadata": {
        "id": "3CzK9Dfhs7Qs"
      },
      "source": [
        ""
      ],
      "execution_count": null,
      "outputs": []
    }
  ]
}