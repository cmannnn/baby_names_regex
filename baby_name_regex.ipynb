{
  "nbformat": 4,
  "nbformat_minor": 0,
  "metadata": {
    "colab": {
      "name": "baby_name_regex.ipynb",
      "provenance": [],
      "authorship_tag": "ABX9TyM8ToakjfvdY5P4mjgiK1Tt",
      "include_colab_link": true
    },
    "kernelspec": {
      "name": "python3",
      "display_name": "Python 3"
    },
    "language_info": {
      "name": "python"
    }
  },
  "cells": [
    {
      "cell_type": "markdown",
      "metadata": {
        "id": "view-in-github",
        "colab_type": "text"
      },
      "source": [
        "<a href=\"https://colab.research.google.com/github/cmannnn/baby_names_regex/blob/main/baby_name_regex.ipynb\" target=\"_parent\"><img src=\"https://colab.research.google.com/assets/colab-badge.svg\" alt=\"Open In Colab\"/></a>"
      ]
    },
    {
      "cell_type": "markdown",
      "metadata": {
        "id": "rRPSckwBs77I"
      },
      "source": [
        "# Google Education Baby Name Regex Exercise"
      ]
    },
    {
      "cell_type": "code",
      "metadata": {
        "id": "3a5m2fWFwOnQ"
      },
      "source": [
        "# imports\n",
        "import pandas as pd\n",
        "import re"
      ],
      "execution_count": 1,
      "outputs": []
    },
    {
      "cell_type": "markdown",
      "metadata": {
        "id": "SiPsF-MXsWHb"
      },
      "source": [
        "- Extract all the text from the file and print it\n"
      ]
    },
    {
      "cell_type": "code",
      "metadata": {
        "colab": {
          "base_uri": "https://localhost:8080/"
        },
        "id": "F137jgDfta_N",
        "outputId": "95177833-d2df-48fb-d047-7ec49e1e3ed4"
      },
      "source": [
        "# downloading the exercise files from google\n",
        "!wget https://developers.google.com/edu/python/google-python-exercises.zip"
      ],
      "execution_count": 2,
      "outputs": [
        {
          "output_type": "stream",
          "name": "stdout",
          "text": [
            "--2021-09-05 15:38:36--  https://developers.google.com/edu/python/google-python-exercises.zip\n",
            "Resolving developers.google.com (developers.google.com)... 74.125.203.139, 74.125.203.113, 74.125.203.102, ...\n",
            "Connecting to developers.google.com (developers.google.com)|74.125.203.139|:443... connected.\n",
            "HTTP request sent, awaiting response... 200 OK\n",
            "Length: 302656 (296K) [application/zip]\n",
            "Saving to: ‘google-python-exercises.zip’\n",
            "\n",
            "google-python-exerc 100%[===================>] 295.56K   398KB/s    in 0.7s    \n",
            "\n",
            "2021-09-05 15:38:37 (398 KB/s) - ‘google-python-exercises.zip’ saved [302656/302656]\n",
            "\n"
          ]
        }
      ]
    },
    {
      "cell_type": "code",
      "metadata": {
        "colab": {
          "base_uri": "https://localhost:8080/"
        },
        "id": "JXwLu-DbugAU",
        "outputId": "d5161384-964e-4833-ad21-28d5c75ae469"
      },
      "source": [
        "# unzipping all of the exercies files\n",
        "!unzip google-python-exercises.zip"
      ],
      "execution_count": 3,
      "outputs": [
        {
          "output_type": "stream",
          "name": "stdout",
          "text": [
            "Archive:  google-python-exercises.zip\n",
            "  inflating: google-python-exercises/LICENSE.txt  \n",
            "  inflating: google-python-exercises/NOTICE.txt  \n",
            "  inflating: google-python-exercises/hello.py  \n",
            "   creating: google-python-exercises/basic/\n",
            "  inflating: google-python-exercises/basic/alice.txt  \n",
            "  inflating: google-python-exercises/basic/list1.py  \n",
            "  inflating: google-python-exercises/basic/list2.py  \n",
            "  inflating: google-python-exercises/basic/mimic.py  \n",
            "  inflating: google-python-exercises/basic/small.txt  \n",
            "   creating: google-python-exercises/basic/solution/\n",
            "  inflating: google-python-exercises/basic/solution/list1.py  \n",
            "  inflating: google-python-exercises/basic/solution/list2.py  \n",
            "  inflating: google-python-exercises/basic/solution/mimic.py  \n",
            "  inflating: google-python-exercises/basic/solution/string1.py  \n",
            "  inflating: google-python-exercises/basic/solution/string2.py  \n",
            "  inflating: google-python-exercises/basic/solution/wordcount.py  \n",
            "  inflating: google-python-exercises/basic/string1.py  \n",
            "  inflating: google-python-exercises/basic/string2.py  \n",
            "  inflating: google-python-exercises/basic/wordcount.py  \n",
            "   creating: google-python-exercises/babynames/\n",
            "  inflating: google-python-exercises/babynames/baby1990.html  \n",
            "  inflating: google-python-exercises/babynames/baby1992.html  \n",
            "  inflating: google-python-exercises/babynames/baby1994.html  \n",
            "  inflating: google-python-exercises/babynames/baby1996.html  \n",
            "  inflating: google-python-exercises/babynames/baby1998.html  \n",
            "  inflating: google-python-exercises/babynames/baby2000.html  \n",
            "  inflating: google-python-exercises/babynames/baby2002.html  \n",
            "  inflating: google-python-exercises/babynames/baby2004.html  \n",
            "  inflating: google-python-exercises/babynames/baby2006.html  \n",
            "  inflating: google-python-exercises/babynames/baby2008.html  \n",
            "  inflating: google-python-exercises/babynames/babynames.py  \n",
            "   creating: google-python-exercises/babynames/solution/\n",
            "  inflating: google-python-exercises/babynames/solution/babynames.py  \n",
            "   creating: google-python-exercises/copyspecial/\n",
            "  inflating: google-python-exercises/copyspecial/copyspecial.py  \n",
            "   creating: google-python-exercises/copyspecial/solution/\n",
            "  inflating: google-python-exercises/copyspecial/solution/copyspecial.py  \n",
            "  inflating: google-python-exercises/copyspecial/xyz__hello__.txt  \n",
            "  inflating: google-python-exercises/copyspecial/zz__something__.jpg  \n",
            "   creating: google-python-exercises/logpuzzle/\n",
            "  inflating: google-python-exercises/logpuzzle/animal_code.google.com  \n",
            "  inflating: google-python-exercises/logpuzzle/logpuzzle.py  \n",
            "  inflating: google-python-exercises/logpuzzle/place_code.google.com  \n",
            "   creating: google-python-exercises/logpuzzle/solution/\n",
            "  inflating: google-python-exercises/logpuzzle/solution/logpuzzle.py  \n"
          ]
        }
      ]
    },
    {
      "cell_type": "code",
      "metadata": {
        "id": "BGMmLVTocVwS"
      },
      "source": [
        "fname = r'google-python-exercises/babynames/baby1990.html'"
      ],
      "execution_count": 4,
      "outputs": []
    },
    {
      "cell_type": "code",
      "metadata": {
        "id": "WCChLWWuzH-D"
      },
      "source": [
        "# opening year 1990 in read mode\n",
        "ds = open(fname, 'r')\n",
        "ds = ds.read()"
      ],
      "execution_count": 5,
      "outputs": []
    },
    {
      "cell_type": "code",
      "metadata": {
        "id": "FA1aDskjwcDw"
      },
      "source": [
        "# printing all of 1990's text (very messy)\n",
        "print(ds)"
      ],
      "execution_count": null,
      "outputs": []
    },
    {
      "cell_type": "markdown",
      "metadata": {
        "id": "NpWihYt7tSsp"
      },
      "source": [
        "- Find and extract the year and print it\n"
      ]
    },
    {
      "cell_type": "code",
      "metadata": {
        "id": "o8w7Phf9yKlu",
        "colab": {
          "base_uri": "https://localhost:8080/"
        },
        "outputId": "653897b3-d3fa-4c5d-9a58-73829ebba9b2"
      },
      "source": [
        "# searching for the whole string and printing\n",
        "year = re.search(r'<h3\\salign.\\\"center\">Popularity\\sin\\s(\\d\\d\\d\\d)', ds)\n",
        "print(year.group())"
      ],
      "execution_count": 7,
      "outputs": [
        {
          "output_type": "stream",
          "name": "stdout",
          "text": [
            "<h3 align=\"center\">Popularity in 1990\n"
          ]
        }
      ]
    },
    {
      "cell_type": "code",
      "metadata": {
        "colab": {
          "base_uri": "https://localhost:8080/"
        },
        "id": "sjVlZv95V968",
        "outputId": "7e8e37b7-b409-4dcc-92c2-9cd07eec1f82"
      },
      "source": [
        "# searching ofr everything after the html tags\n",
        "popularity = re.search(r'Popularity\\sin\\s(\\d\\d\\d\\d)', ds)\n",
        "print(popularity.group())"
      ],
      "execution_count": 8,
      "outputs": [
        {
          "output_type": "stream",
          "name": "stdout",
          "text": [
            "Popularity in 1990\n"
          ]
        }
      ]
    },
    {
      "cell_type": "markdown",
      "metadata": {
        "id": "j_qHWQ5ptUZ2"
      },
      "source": [
        "- Extract the names and rank numbers and print them\n"
      ]
    },
    {
      "cell_type": "code",
      "metadata": {
        "id": "v2i_You9kQI8"
      },
      "source": [
        "# getting all ranks and and names\n",
        "names = re.findall(r'<td>(\\d+)</td><td>(\\w+)</td><td>(\\w+)', ds)\n",
        "\n",
        "for name in names:\n",
        "  print(name[1])"
      ],
      "execution_count": null,
      "outputs": []
    },
    {
      "cell_type": "markdown",
      "metadata": {
        "id": "JNNt99qQtUgx"
      },
      "source": [
        "- Get the names data into a dict and print it\n"
      ]
    },
    {
      "cell_type": "code",
      "metadata": {
        "id": "Bxy-6AB2oFs-"
      },
      "source": [
        "# converting names into a dict and \n",
        "names_to_rank = {}\n",
        "\n",
        "for rank, boyname, girlname in names:\n",
        "  if boyname not in names_to_rank:\n",
        "    names_to_rank[boyname] = rank\n",
        "  if girlname not in names_to_rank:\n",
        "    names_to_rank[girlname] = rank"
      ],
      "execution_count": 16,
      "outputs": []
    },
    {
      "cell_type": "code",
      "metadata": {
        "id": "1_BFlbLYoo_o"
      },
      "source": [
        "# printing names_to_rank dict\n",
        "sorted(names_to_rank.keys())"
      ],
      "execution_count": null,
      "outputs": []
    },
    {
      "cell_type": "code",
      "metadata": {
        "id": "FK7QpLnWsKs2"
      },
      "source": [
        "def extract_names(filename):\n",
        "  ds = open(filename, 'r')\n",
        "  ds = ds.read()\n",
        "  #return ds\n",
        "  popularity = re.search(r'Popularity\\sin\\s(\\d\\d\\d\\d)', ds)\n",
        "  #return popularity.group()\n",
        "  #names = re.findall(r'<td>(\\d+)</td><td>(\\w+)</td><td>(\\w+)', ds)\n",
        "  #for rank, boyname, girlname in names:\n",
        "  #  if boyname not in names_to_rank:\n",
        "  #    names_to_rank[boyname] = rank\n",
        "  #  if girlname not in names_to_rank:\n",
        "  #    names_to_rank[girlname] = rank\n",
        "  #return names_to_rank"
      ],
      "execution_count": 43,
      "outputs": []
    },
    {
      "cell_type": "code",
      "metadata": {
        "id": "21JWtBivuV9n"
      },
      "source": [
        "/content/google-python-exercises/babynames/baby1990.html"
      ],
      "execution_count": null,
      "outputs": []
    },
    {
      "cell_type": "code",
      "metadata": {
        "colab": {
          "base_uri": "https://localhost:8080/",
          "height": 35
        },
        "id": "k2zyELewtr_X",
        "outputId": "78bcd506-901e-49fc-95a0-380d8621f9a4"
      },
      "source": [
        "extract_names(r\"/content/google-python-exercises/babynames/baby1990.html\")"
      ],
      "execution_count": 44,
      "outputs": [
        {
          "output_type": "execute_result",
          "data": {
            "application/vnd.google.colaboratory.intrinsic+json": {
              "type": "string"
            },
            "text/plain": [
              "'Popularity in 1990'"
            ]
          },
          "metadata": {},
          "execution_count": 44
        }
      ]
    },
    {
      "cell_type": "code",
      "metadata": {
        "id": "7smEiZoatxcR"
      },
      "source": [
        ""
      ],
      "execution_count": null,
      "outputs": []
    }
  ]
}