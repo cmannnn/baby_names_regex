{
  "nbformat": 4,
  "nbformat_minor": 0,
  "metadata": {
    "colab": {
      "name": "baby_name_regex.ipynb",
      "provenance": [],
      "authorship_tag": "ABX9TyOiMC5ea79fz1FyOs0Q3DLy",
      "include_colab_link": true
    },
    "kernelspec": {
      "name": "python3",
      "display_name": "Python 3"
    },
    "language_info": {
      "name": "python"
    }
  },
  "cells": [
    {
      "cell_type": "markdown",
      "metadata": {
        "id": "view-in-github",
        "colab_type": "text"
      },
      "source": [
        "<a href=\"https://colab.research.google.com/github/cmannnn/baby_names_regex/blob/main/baby_name_regex.ipynb\" target=\"_parent\"><img src=\"https://colab.research.google.com/assets/colab-badge.svg\" alt=\"Open In Colab\"/></a>"
      ]
    },
    {
      "cell_type": "markdown",
      "metadata": {
        "id": "rRPSckwBs77I"
      },
      "source": [
        "# Google Education Baby Name Regex Exercise"
      ]
    },
    {
      "cell_type": "code",
      "metadata": {
        "id": "3a5m2fWFwOnQ"
      },
      "source": [
        "# imports\n",
        "import pandas as pd\n",
        "import re"
      ],
      "execution_count": 1,
      "outputs": []
    },
    {
      "cell_type": "markdown",
      "metadata": {
        "id": "SiPsF-MXsWHb"
      },
      "source": [
        "- Extract all the text from the file and print it\n"
      ]
    },
    {
      "cell_type": "code",
      "metadata": {
        "colab": {
          "base_uri": "https://localhost:8080/"
        },
        "id": "F137jgDfta_N",
        "outputId": "9de3d3ce-175b-4f88-867b-6931de44a8da"
      },
      "source": [
        "# downloading the exercise files from google\n",
        "!wget https://developers.google.com/edu/python/google-python-exercises.zip"
      ],
      "execution_count": 2,
      "outputs": [
        {
          "output_type": "stream",
          "text": [
            "--2021-08-30 00:49:27--  https://developers.google.com/edu/python/google-python-exercises.zip\n",
            "Resolving developers.google.com (developers.google.com)... 172.217.1.206, 2607:f8b0:4004:801::200e\n",
            "Connecting to developers.google.com (developers.google.com)|172.217.1.206|:443... connected.\n",
            "HTTP request sent, awaiting response... 200 OK\n",
            "Length: 302656 (296K) [application/zip]\n",
            "Saving to: ‘google-python-exercises.zip’\n",
            "\n",
            "\r          google-py   0%[                    ]       0  --.-KB/s               \rgoogle-python-exerc 100%[===================>] 295.56K  --.-KB/s    in 0.1s    \n",
            "\n",
            "2021-08-30 00:49:27 (2.94 MB/s) - ‘google-python-exercises.zip’ saved [302656/302656]\n",
            "\n"
          ],
          "name": "stdout"
        }
      ]
    },
    {
      "cell_type": "code",
      "metadata": {
        "id": "JXwLu-DbugAU"
      },
      "source": [
        "# unzipping all of the exercies files\n",
        "!unzip google-python-exercises.zip"
      ],
      "execution_count": null,
      "outputs": []
    },
    {
      "cell_type": "code",
      "metadata": {
        "id": "BGMmLVTocVwS"
      },
      "source": [
        "fname = r'google-python-exercises/babynames/baby1990.html'"
      ],
      "execution_count": 4,
      "outputs": []
    },
    {
      "cell_type": "code",
      "metadata": {
        "id": "WCChLWWuzH-D"
      },
      "source": [
        "# opening year 1990 in read mode\n",
        "ds = open(fname, 'r')"
      ],
      "execution_count": 5,
      "outputs": []
    },
    {
      "cell_type": "code",
      "metadata": {
        "id": "FA1aDskjwcDw"
      },
      "source": [
        "# printing all of 1990's text (very messy)\n",
        "print(ds.read())"
      ],
      "execution_count": null,
      "outputs": []
    },
    {
      "cell_type": "code",
      "metadata": {
        "id": "FHM-h0a2gRuu"
      },
      "source": [
        "ds = ds.read()"
      ],
      "execution_count": 7,
      "outputs": []
    },
    {
      "cell_type": "markdown",
      "metadata": {
        "id": "NpWihYt7tSsp"
      },
      "source": [
        "- Find and extract the year and print it\n"
      ]
    },
    {
      "cell_type": "markdown",
      "metadata": {
        "id": "fSmAFSCl1X-q"
      },
      "source": [
        "\\<h3 align=\"center\">Popularity in 1990</h3>"
      ]
    },
    {
      "cell_type": "markdown",
      "metadata": {
        "id": "5AbUzhpk5ANi"
      },
      "source": [
        "r'Popularity\\sin\\s(\\d\\d\\d\\d)'"
      ]
    },
    {
      "cell_type": "code",
      "metadata": {
        "id": "o8w7Phf9yKlu"
      },
      "source": [
        "year = re.search(r'<h3\\salign.\\\"center\">Popularity\\sin\\s(\\d\\d\\d\\d)', ds)"
      ],
      "execution_count": 52,
      "outputs": []
    },
    {
      "cell_type": "code",
      "metadata": {
        "colab": {
          "base_uri": "https://localhost:8080/"
        },
        "id": "z289mHnb2zkK",
        "outputId": "94b454db-0d86-460c-ff53-a1e868e172db"
      },
      "source": [
        "print(year.group())"
      ],
      "execution_count": 53,
      "outputs": [
        {
          "output_type": "stream",
          "text": [
            "<h3 align=\"center\">Popularity in 1990\n"
          ],
          "name": "stdout"
        }
      ]
    },
    {
      "cell_type": "code",
      "metadata": {
        "id": "sjVlZv95V968"
      },
      "source": [
        "popularity = re.search(r'Popularity\\sin\\s(\\d\\d\\d\\d)', ds)"
      ],
      "execution_count": 54,
      "outputs": []
    },
    {
      "cell_type": "code",
      "metadata": {
        "colab": {
          "base_uri": "https://localhost:8080/"
        },
        "id": "Ku9vxcaAWHdv",
        "outputId": "6a09cf49-1893-45a9-900c-a6907ac04743"
      },
      "source": [
        "print(popularity.group())"
      ],
      "execution_count": 55,
      "outputs": [
        {
          "output_type": "stream",
          "text": [
            "Popularity in 1990\n"
          ],
          "name": "stdout"
        }
      ]
    },
    {
      "cell_type": "code",
      "metadata": {
        "id": "0bk_q4N2SOP0"
      },
      "source": [
        "# \\sin\\s(\\d\\d\\d\\d)"
      ],
      "execution_count": null,
      "outputs": []
    },
    {
      "cell_type": "markdown",
      "metadata": {
        "id": "j_qHWQ5ptUZ2"
      },
      "source": [
        "- Extract the names and rank numbers and print them\n"
      ]
    },
    {
      "cell_type": "markdown",
      "metadata": {
        "id": "JNNt99qQtUgx"
      },
      "source": [
        "- Get the names data into a dict and print it\n"
      ]
    },
    {
      "cell_type": "markdown",
      "metadata": {
        "id": "S2VwE0IutUl1"
      },
      "source": [
        "- Build the [year, 'name rank', ... ] list and print it\n"
      ]
    },
    {
      "cell_type": "markdown",
      "metadata": {
        "id": "JEtQMgMatYp3"
      },
      "source": [
        "- Fix main() to use the ExtractNames list"
      ]
    },
    {
      "cell_type": "code",
      "metadata": {
        "id": "3CzK9Dfhs7Qs"
      },
      "source": [
        ""
      ],
      "execution_count": null,
      "outputs": []
    }
  ]
}