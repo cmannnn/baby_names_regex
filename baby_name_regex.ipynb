{
  "nbformat": 4,
  "nbformat_minor": 0,
  "metadata": {
    "colab": {
      "name": "baby_name_regex.ipynb",
      "provenance": [],
      "authorship_tag": "ABX9TyNn+HuOrVnczd0vCwDJQPIW",
      "include_colab_link": true
    },
    "kernelspec": {
      "name": "python3",
      "display_name": "Python 3"
    },
    "language_info": {
      "name": "python"
    }
  },
  "cells": [
    {
      "cell_type": "markdown",
      "metadata": {
        "id": "view-in-github",
        "colab_type": "text"
      },
      "source": [
        "<a href=\"https://colab.research.google.com/github/cmannnn/baby_names_regex/blob/main/baby_name_regex.ipynb\" target=\"_parent\"><img src=\"https://colab.research.google.com/assets/colab-badge.svg\" alt=\"Open In Colab\"/></a>"
      ]
    },
    {
      "cell_type": "markdown",
      "metadata": {
        "id": "rRPSckwBs77I"
      },
      "source": [
        "# Google Education Baby Name Regex Exercise"
      ]
    },
    {
      "cell_type": "markdown",
      "metadata": {
        "id": "SiPsF-MXsWHb"
      },
      "source": [
        "- Extract all the text from the file and print it\n"
      ]
    },
    {
      "cell_type": "code",
      "metadata": {
        "colab": {
          "base_uri": "https://localhost:8080/"
        },
        "id": "F137jgDfta_N",
        "outputId": "7b23e133-1af4-4553-d857-f8f44ade8922"
      },
      "source": [
        "!wget https://developers.google.com/edu/python/google-python-exercises.zip"
      ],
      "execution_count": 2,
      "outputs": [
        {
          "output_type": "stream",
          "text": [
            "--2021-08-26 23:10:54--  https://developers.google.com/edu/python/google-python-exercises.zip\n",
            "Resolving developers.google.com (developers.google.com)... 142.251.8.113, 142.251.8.100, 142.251.8.102, ...\n",
            "Connecting to developers.google.com (developers.google.com)|142.251.8.113|:443... connected.\n",
            "HTTP request sent, awaiting response... 200 OK\n",
            "Length: 302656 (296K) [application/zip]\n",
            "Saving to: ‘google-python-exercises.zip’\n",
            "\n",
            "google-python-exerc 100%[===================>] 295.56K   397KB/s    in 0.7s    \n",
            "\n",
            "2021-08-26 23:10:56 (397 KB/s) - ‘google-python-exercises.zip’ saved [302656/302656]\n",
            "\n"
          ],
          "name": "stdout"
        }
      ]
    },
    {
      "cell_type": "code",
      "metadata": {
        "colab": {
          "base_uri": "https://localhost:8080/"
        },
        "id": "JXwLu-DbugAU",
        "outputId": "dca0e384-fbcf-4cd7-8d70-caa0ed49462e"
      },
      "source": [
        "!unzip google-python-exercises.zip"
      ],
      "execution_count": 3,
      "outputs": [
        {
          "output_type": "stream",
          "text": [
            "Archive:  google-python-exercises.zip\n",
            "  inflating: google-python-exercises/LICENSE.txt  \n",
            "  inflating: google-python-exercises/NOTICE.txt  \n",
            "  inflating: google-python-exercises/hello.py  \n",
            "   creating: google-python-exercises/basic/\n",
            "  inflating: google-python-exercises/basic/alice.txt  \n",
            "  inflating: google-python-exercises/basic/list1.py  \n",
            "  inflating: google-python-exercises/basic/list2.py  \n",
            "  inflating: google-python-exercises/basic/mimic.py  \n",
            "  inflating: google-python-exercises/basic/small.txt  \n",
            "   creating: google-python-exercises/basic/solution/\n",
            "  inflating: google-python-exercises/basic/solution/list1.py  \n",
            "  inflating: google-python-exercises/basic/solution/list2.py  \n",
            "  inflating: google-python-exercises/basic/solution/mimic.py  \n",
            "  inflating: google-python-exercises/basic/solution/string1.py  \n",
            "  inflating: google-python-exercises/basic/solution/string2.py  \n",
            "  inflating: google-python-exercises/basic/solution/wordcount.py  \n",
            "  inflating: google-python-exercises/basic/string1.py  \n",
            "  inflating: google-python-exercises/basic/string2.py  \n",
            "  inflating: google-python-exercises/basic/wordcount.py  \n",
            "   creating: google-python-exercises/babynames/\n",
            "  inflating: google-python-exercises/babynames/baby1990.html  \n",
            "  inflating: google-python-exercises/babynames/baby1992.html  \n",
            "  inflating: google-python-exercises/babynames/baby1994.html  \n",
            "  inflating: google-python-exercises/babynames/baby1996.html  \n",
            "  inflating: google-python-exercises/babynames/baby1998.html  \n",
            "  inflating: google-python-exercises/babynames/baby2000.html  \n",
            "  inflating: google-python-exercises/babynames/baby2002.html  \n",
            "  inflating: google-python-exercises/babynames/baby2004.html  \n",
            "  inflating: google-python-exercises/babynames/baby2006.html  \n",
            "  inflating: google-python-exercises/babynames/baby2008.html  \n",
            "  inflating: google-python-exercises/babynames/babynames.py  \n",
            "   creating: google-python-exercises/babynames/solution/\n",
            "  inflating: google-python-exercises/babynames/solution/babynames.py  \n",
            "   creating: google-python-exercises/copyspecial/\n",
            "  inflating: google-python-exercises/copyspecial/copyspecial.py  \n",
            "   creating: google-python-exercises/copyspecial/solution/\n",
            "  inflating: google-python-exercises/copyspecial/solution/copyspecial.py  \n",
            "  inflating: google-python-exercises/copyspecial/xyz__hello__.txt  \n",
            "  inflating: google-python-exercises/copyspecial/zz__something__.jpg  \n",
            "   creating: google-python-exercises/logpuzzle/\n",
            "  inflating: google-python-exercises/logpuzzle/animal_code.google.com  \n",
            "  inflating: google-python-exercises/logpuzzle/logpuzzle.py  \n",
            "  inflating: google-python-exercises/logpuzzle/place_code.google.com  \n",
            "   creating: google-python-exercises/logpuzzle/solution/\n",
            "  inflating: google-python-exercises/logpuzzle/solution/logpuzzle.py  \n"
          ],
          "name": "stdout"
        }
      ]
    },
    {
      "cell_type": "code",
      "metadata": {
        "id": "saERkjY_u_12"
      },
      "source": [
        ""
      ],
      "execution_count": null,
      "outputs": []
    },
    {
      "cell_type": "markdown",
      "metadata": {
        "id": "NpWihYt7tSsp"
      },
      "source": [
        "- Find and extract the year and print it\n"
      ]
    },
    {
      "cell_type": "markdown",
      "metadata": {
        "id": "j_qHWQ5ptUZ2"
      },
      "source": [
        "- Extract the names and rank numbers and print them\n"
      ]
    },
    {
      "cell_type": "markdown",
      "metadata": {
        "id": "JNNt99qQtUgx"
      },
      "source": [
        "- Get the names data into a dict and print it\n"
      ]
    },
    {
      "cell_type": "markdown",
      "metadata": {
        "id": "S2VwE0IutUl1"
      },
      "source": [
        "- Build the [year, 'name rank', ... ] list and print it\n"
      ]
    },
    {
      "cell_type": "markdown",
      "metadata": {
        "id": "JEtQMgMatYp3"
      },
      "source": [
        "- Fix main() to use the ExtractNames list"
      ]
    },
    {
      "cell_type": "code",
      "metadata": {
        "id": "3CzK9Dfhs7Qs"
      },
      "source": [
        ""
      ],
      "execution_count": null,
      "outputs": []
    }
  ]
}